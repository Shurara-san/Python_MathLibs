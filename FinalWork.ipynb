{
 "cells": [
  {
   "cell_type": "code",
   "execution_count": 1,
   "metadata": {
    "_cell_guid": "b1076dfc-b9ad-4769-8c92-a6c4dae69d19",
    "_uuid": "8f2839f25d086af736a60e9eeb907d3b93b6e0e5",
    "execution": {
     "iopub.execute_input": "2020-10-19T14:04:20.860831Z",
     "iopub.status.busy": "2020-10-19T14:04:20.859815Z",
     "iopub.status.idle": "2020-10-19T14:04:20.864158Z",
     "shell.execute_reply": "2020-10-19T14:04:20.864804Z"
    },
    "papermill": {
     "duration": 0.039042,
     "end_time": "2020-10-19T14:04:20.865005",
     "exception": false,
     "start_time": "2020-10-19T14:04:20.825963",
     "status": "completed"
    },
    "tags": []
   },
   "outputs": [
    {
     "name": "stdout",
     "output_type": "stream",
     "text": [
      "/kaggle/input/real-estate-price-prediction-moscow/sample_submission.csv\n",
      "/kaggle/input/real-estate-price-prediction-moscow/test.csv\n",
      "/kaggle/input/real-estate-price-prediction-moscow/train.csv\n"
     ]
    }
   ],
   "source": [
    "# This Python 3 environment comes with many helpful analytics libraries installed\n",
    "# It is defined by the kaggle/python Docker image: https://github.com/kaggle/docker-python\n",
    "# For example, here's several helpful packages to load\n",
    "\n",
    "import numpy as np # linear algebra\n",
    "import pandas as pd # data processing, CSV file I/O (e.g. pd.read_csv)\n",
    "\n",
    "# Input data files are available in the read-only \"../input/\" directory\n",
    "# For example, running this (by clicking run or pressing Shift+Enter) will list all files under the input directory\n",
    "\n",
    "import os\n",
    "for dirname, _, filenames in os.walk('/kaggle/input'):\n",
    "    for filename in filenames:\n",
    "        print(os.path.join(dirname, filename))\n",
    "\n",
    "# You can write up to 5GB to the current directory (/kaggle/working/) that gets preserved as output when you create a version using \"Save & Run All\" \n",
    "# You can also write temporary files to /kaggle/temp/, but they won't be saved outside of the current session"
   ]
  },
  {
   "cell_type": "code",
   "execution_count": 2,
   "metadata": {
    "_cell_guid": "79c7e3d0-c299-4dcb-8224-4455121ee9b0",
    "_uuid": "d629ff2d2480ee46fbb7e2d37f6b5fab8052498a",
    "execution": {
     "iopub.execute_input": "2020-10-19T14:04:20.933571Z",
     "iopub.status.busy": "2020-10-19T14:04:20.932661Z",
     "iopub.status.idle": "2020-10-19T14:04:22.245042Z",
     "shell.execute_reply": "2020-10-19T14:04:22.244230Z"
    },
    "papermill": {
     "duration": 1.351828,
     "end_time": "2020-10-19T14:04:22.245178",
     "exception": false,
     "start_time": "2020-10-19T14:04:20.893350",
     "status": "completed"
    },
    "tags": []
   },
   "outputs": [],
   "source": [
    "import numpy as np\n",
    "import pandas as pd\n",
    "import random\n",
    "\n",
    "from sklearn.model_selection import train_test_split, cross_val_score\n",
    "from sklearn.preprocessing import StandardScaler, RobustScaler\n",
    "from sklearn.ensemble import RandomForestRegressor\n",
    "from sklearn.metrics import r2_score as r2\n",
    "from sklearn.model_selection import KFold, GridSearchCV\n",
    "from sklearn.manifold import TSNE\n",
    "from sklearn.linear_model import LinearRegression\n",
    "\n",
    "from sklearn.cluster import KMeans\n",
    "\n",
    "from datetime import datetime\n",
    "\n",
    "import matplotlib\n",
    "import matplotlib.pyplot as plt\n",
    "import seaborn as sns\n",
    "%matplotlib inline\n",
    "from pylab import rcParams"
   ]
  },
  {
   "cell_type": "code",
   "execution_count": 3,
   "metadata": {
    "execution": {
     "iopub.execute_input": "2020-10-19T14:04:22.303503Z",
     "iopub.status.busy": "2020-10-19T14:04:22.302505Z",
     "iopub.status.idle": "2020-10-19T14:04:22.305556Z",
     "shell.execute_reply": "2020-10-19T14:04:22.304966Z"
    },
    "papermill": {
     "duration": 0.034187,
     "end_time": "2020-10-19T14:04:22.305681",
     "exception": false,
     "start_time": "2020-10-19T14:04:22.271494",
     "status": "completed"
    },
    "tags": []
   },
   "outputs": [],
   "source": [
    "from datetime import date"
   ]
  },
  {
   "cell_type": "markdown",
   "metadata": {
    "papermill": {
     "duration": 0.025645,
     "end_time": "2020-10-19T14:04:22.357485",
     "exception": false,
     "start_time": "2020-10-19T14:04:22.331840",
     "status": "completed"
    },
    "tags": []
   },
   "source": [
    "### 1. Необходимые функции и пути"
   ]
  },
  {
   "cell_type": "code",
   "execution_count": 4,
   "metadata": {
    "execution": {
     "iopub.execute_input": "2020-10-19T14:04:22.421440Z",
     "iopub.status.busy": "2020-10-19T14:04:22.420363Z",
     "iopub.status.idle": "2020-10-19T14:04:22.423586Z",
     "shell.execute_reply": "2020-10-19T14:04:22.423008Z"
    },
    "papermill": {
     "duration": 0.04005,
     "end_time": "2020-10-19T14:04:22.423715",
     "exception": false,
     "start_time": "2020-10-19T14:04:22.383665",
     "status": "completed"
    },
    "tags": []
   },
   "outputs": [],
   "source": [
    "def evaluate_preds(train_true_values, train_pred_values, test_true_values, test_pred_values):\n",
    "    print(\"Train R2:\\t\" + str(round(r2(train_true_values, train_pred_values), 3)))\n",
    "    print(\"Test R2:\\t\" + str(round(r2(test_true_values, test_pred_values), 3)))\n",
    "    \n",
    "    plt.figure(figsize=(18,10))\n",
    "    \n",
    "    plt.subplot(121)\n",
    "    sns.scatterplot(x=train_pred_values, y=train_true_values)\n",
    "    plt.xlabel('Predicted values')\n",
    "    plt.ylabel('True values')\n",
    "    plt.title('Train sample prediction')\n",
    "    \n",
    "    plt.subplot(122)\n",
    "    sns.scatterplot(x=test_pred_values, y=test_true_values)\n",
    "    plt.xlabel('Predicted values')\n",
    "    plt.ylabel('True values')\n",
    "    plt.title('Test sample prediction')\n",
    "\n",
    "    plt.show()"
   ]
  },
  {
   "cell_type": "code",
   "execution_count": 5,
   "metadata": {
    "execution": {
     "iopub.execute_input": "2020-10-19T14:04:22.484358Z",
     "iopub.status.busy": "2020-10-19T14:04:22.483531Z",
     "iopub.status.idle": "2020-10-19T14:04:22.555342Z",
     "shell.execute_reply": "2020-10-19T14:04:22.554675Z"
    },
    "papermill": {
     "duration": 0.10548,
     "end_time": "2020-10-19T14:04:22.555490",
     "exception": false,
     "start_time": "2020-10-19T14:04:22.450010",
     "status": "completed"
    },
    "tags": []
   },
   "outputs": [],
   "source": [
    "TRAIN_DATASET_PATH = '/kaggle/input/real-estate-price-prediction-moscow/train.csv'\n",
    "TEST_DATASET_PATH = '/kaggle/input/real-estate-price-prediction-moscow/test.csv'\n",
    "\n",
    "train_df = pd.read_csv(TRAIN_DATASET_PATH)\n",
    "test_df = pd.read_csv(TEST_DATASET_PATH)"
   ]
  },
  {
   "cell_type": "code",
   "execution_count": 6,
   "metadata": {
    "execution": {
     "iopub.execute_input": "2020-10-19T14:04:22.624276Z",
     "iopub.status.busy": "2020-10-19T14:04:22.622937Z",
     "iopub.status.idle": "2020-10-19T14:04:22.628060Z",
     "shell.execute_reply": "2020-10-19T14:04:22.628956Z"
    },
    "papermill": {
     "duration": 0.046517,
     "end_time": "2020-10-19T14:04:22.629215",
     "exception": false,
     "start_time": "2020-10-19T14:04:22.582698",
     "status": "completed"
    },
    "tags": []
   },
   "outputs": [
    {
     "data": {
      "text/plain": [
       "12.6094"
      ]
     },
     "execution_count": 6,
     "metadata": {},
     "output_type": "execute_result"
    }
   ],
   "source": [
    "train_df['HouseFloor'].mean()"
   ]
  },
  {
   "cell_type": "markdown",
   "metadata": {
    "papermill": {
     "duration": 0.026655,
     "end_time": "2020-10-19T14:04:22.686710",
     "exception": false,
     "start_time": "2020-10-19T14:04:22.660055",
     "status": "completed"
    },
    "tags": []
   },
   "source": [
    "### 2. Обработка выбросов"
   ]
  },
  {
   "cell_type": "code",
   "execution_count": 7,
   "metadata": {
    "execution": {
     "iopub.execute_input": "2020-10-19T14:04:22.766502Z",
     "iopub.status.busy": "2020-10-19T14:04:22.754570Z",
     "iopub.status.idle": "2020-10-19T14:04:22.769526Z",
     "shell.execute_reply": "2020-10-19T14:04:22.768877Z"
    },
    "papermill": {
     "duration": 0.055884,
     "end_time": "2020-10-19T14:04:22.769685",
     "exception": false,
     "start_time": "2020-10-19T14:04:22.713801",
     "status": "completed"
    },
    "tags": []
   },
   "outputs": [],
   "source": [
    "class DataPreprocessing:\n",
    "\n",
    "# Id - идентификационный номер квартиры\n",
    "# DistrictId - идентификационный номер района\n",
    "# Rooms - количество комнат\n",
    "# Square - площадь\n",
    "# LifeSquare - жилая площадь\n",
    "# KitchenSquare - площадь кухни\n",
    "# Floor - этаж\n",
    "# HouseFloor - количество этажей в доме\n",
    "# HouseYear - год постройки дома\n",
    "# Ecology_1, Ecology_2, Ecology_3 - экологические показатели местности\n",
    "# Social_1, Social_2, Social_3 - социальные показатели местности\n",
    "# Healthcare_1, Helthcare_2 - показатели местности, связанные с охраной здоровья\n",
    "# Shops_1, Shops_2 - показатели, связанные с наличием магазинов, торговых центров\n",
    "# Price - цена квартиры\n",
    "\n",
    "    def __init__(self):\n",
    "        \"\"\"Параметры класса\"\"\"\n",
    "        self.medians=None\n",
    "        self.kitchen_square_quantile = None\n",
    "        \n",
    "    def fit(self, X):\n",
    "        \"\"\"Сохранение статистик\"\"\"       \n",
    "        # Расчет медиан\n",
    "        self.medians = X.median()\n",
    "        self.kitchen_square_quantile = X['KitchenSquare'].quantile(.975)\n",
    "    \n",
    "    def transform(self, X):\n",
    "        \"\"\"Трансформация данных\"\"\"\n",
    "\n",
    "        # Rooms\n",
    "        X['Rooms_outlier'] = 0\n",
    "        X.loc[(X['Rooms'] == 0) | (X['Rooms'] >= 6), 'Rooms_outlier'] = 1\n",
    "        \n",
    "        X.loc[X['Rooms'] == 0, 'Rooms'] = 1\n",
    "        X.loc[X['Rooms'] >= 4, 'Rooms'] = self.medians['Rooms']\n",
    "        \n",
    "        # Square, LifeSquare, KitchenSquare\n",
    "        \n",
    "        X['Square_outlier'] = 0\n",
    "        X.loc[(X['Square'] == 0) | (X['Square'] <= 8) | (X['Square'] >= 900), 'Square_outlier'] = 1\n",
    "        \n",
    "        condition = (X['KitchenSquare'].isna()) | (X['KitchenSquare'] > self.kitchen_square_quantile)\n",
    "        \n",
    "        X.loc[condition, 'KitchenSquare'] = self.medians['KitchenSquare']\n",
    "        X.loc[X['KitchenSquare'] < 3 , 'KitchenSquare'] = X['Square'] \n",
    "        X.loc[X['KitchenSquare'] > 0.5*X['Square'], 'KitchenSquare'] = 0.3*X['Square'] #исключает слишком большую, относительно размеров квартиры, кухню\n",
    "        \n",
    "        X.loc[X['LifeSquare'] > X['Square'], 'LifeSquare'] = X['Square'] - X['KitchenSquare'] - 0.2*X['Square'] #0.2*X['Square'] на прочие удобства квартиры \n",
    "        \n",
    "        # HouseFloor, Floor\n",
    "        \n",
    "        X['HouseFloor_outlier'] = 0\n",
    "        X.loc[X['HouseFloor'] == 0, 'HouseFloor_outlier'] = 1\n",
    "        X.loc[X['Floor'] > X['HouseFloor'], 'HouseFloor_outlier'] = 1\n",
    "        \n",
    "        X.loc[X['HouseFloor'] == 0, 'HouseFloor'] = self.medians['HouseFloor']\n",
    "        \n",
    "        X.loc[X['Floor'] > X['HouseFloor'], 'Floor'] = X['HouseFloor']\n",
    "        \n",
    "        # HouseYear\n",
    "\n",
    "        current_year = datetime.now().year\n",
    "        \n",
    "        X['HouseYear_outlier'] = 0\n",
    "        X.loc[X['HouseYear'] > current_year, 'HouseYear_outlier'] = 1\n",
    "        \n",
    "        X.loc[X['HouseYear'] > current_year, 'HouseYear'] = current_year\n",
    "        \n",
    "        # Healthcare_1\n",
    "        if 'Healthcare_1' in X.columns:\n",
    "            X.drop('Healthcare_1', axis=1, inplace=True)\n",
    "        \n",
    "        X.fillna(self.medians, inplace=True)\n",
    "        \n",
    "        return X"
   ]
  },
  {
   "cell_type": "markdown",
   "metadata": {
    "papermill": {
     "duration": 0.026648,
     "end_time": "2020-10-19T14:04:22.823466",
     "exception": false,
     "start_time": "2020-10-19T14:04:22.796818",
     "status": "completed"
    },
    "tags": []
   },
   "source": [
    "### 3. Генерация фичей"
   ]
  },
  {
   "cell_type": "code",
   "execution_count": 8,
   "metadata": {
    "execution": {
     "iopub.execute_input": "2020-10-19T14:04:22.919109Z",
     "iopub.status.busy": "2020-10-19T14:04:22.902849Z",
     "iopub.status.idle": "2020-10-19T14:04:22.947865Z",
     "shell.execute_reply": "2020-10-19T14:04:22.947193Z"
    },
    "papermill": {
     "duration": 0.097299,
     "end_time": "2020-10-19T14:04:22.948015",
     "exception": false,
     "start_time": "2020-10-19T14:04:22.850716",
     "status": "completed"
    },
    "tags": []
   },
   "outputs": [],
   "source": [
    "class FeatureGenetator():\n",
    "    \"\"\"Генерация новых фич\"\"\"\n",
    "    \n",
    "    def __init__(self):\n",
    "        self.DistrictId_counts = None\n",
    "        self.binary_to_numbers = None\n",
    "        self.med_price_by_district = None\n",
    "        self.med_price_by_district_room = None\n",
    "        self.med_price_by_floor = None\n",
    "        self.med_price_by_square = None\n",
    "        self.med_price_by_rooms_kitchen = None\n",
    "        self.house_year_max = None\n",
    "        self.floor_max = None\n",
    "        self.square_max = None\n",
    "        self.lifesquare_max = None\n",
    "        self.kitchensquare_max = None\n",
    "        self.housefloor_max = None        \n",
    "        \n",
    "    def fit(self, X, y=None):\n",
    "        \n",
    "        X = X.copy()\n",
    "        \n",
    "        # Binary features\n",
    "        self.binary_to_numbers = {'A': 0, 'B': 1}\n",
    "        \n",
    "        # DistrictID\n",
    "        self.district_size = X['DistrictId'].value_counts().reset_index() \\\n",
    "                               .rename(columns={'index':'DistrictId', 'DistrictId':'DistrictSize'})\n",
    "                \n",
    "        # Target encoding\n",
    "        ## District, year\n",
    "        df = X.copy()\n",
    "        \n",
    "        if y is not None:\n",
    "            self.house_year_max = df['HouseYear'].max()\n",
    "            df['Price'] = y.values\n",
    "            df = self.year_to_cat(df)\n",
    "            self.med_price_by_district = df.groupby(['DistrictId', 'year_cat'], as_index=False).agg({'Price':'median'})\\\n",
    "                                            .rename(columns={'Price':'MedPriceByDistrict'})\n",
    "            self.med_price_by_district_median = self.med_price_by_district['MedPriceByDistrict'].median()\n",
    "        \n",
    "        ##district, room\n",
    "        if y is not None:\n",
    "            df['Price'] = y.values\n",
    "            self.med_price_by_district_room = df.groupby(['DistrictId', 'Rooms'], as_index=False).agg({'Price':'median'})\\\n",
    "                                            .rename(columns={'Price':'MedPriceByDistrictRoom'})\n",
    "            self.med_price_by_district_room_median = self.med_price_by_district_room['MedPriceByDistrictRoom'].median()\n",
    "        \n",
    "        ## floor, housefloor\n",
    "        if y is not None:\n",
    "            self.floor_max = df['Floor'].max()\n",
    "            self.housefloor_max = df['HouseFloor'].max()\n",
    "            df['Price'] = y.values\n",
    "            df = self.floor_to_cat(df)\n",
    "            df = self.housefloor_to_cat(df)\n",
    "            self.med_price_by_floor = df.groupby(['housefloor_cat', 'floor_cat'], as_index=False).agg({'Price':'median'}).\\\n",
    "                                            rename(columns={'Price':'MedPriceByFloor'})\n",
    "            self.med_price_by_floor_median = self.med_price_by_floor['MedPriceByFloor'].median()\n",
    "        \n",
    "        ## square - оценка стоимости относительно размеров квартиры и жилой площади квартиры\n",
    "        if y is not None:\n",
    "            self.square_max = df['Square'].max()\n",
    "            self.lifesquare_max = df['LifeSquare'].max()\n",
    "            df['Price'] = y.values\n",
    "            df = self.square_to_cat(df)\n",
    "            df = self.lifesquare_to_cat(df)\n",
    "            self.med_price_by_square = df.groupby(['square_cat', 'lifesquare_cat'], as_index=False).agg({'Price':'median'})\\\n",
    "                                            .rename(columns={'Price':'MedPriceBySquare'})\n",
    "            self.med_price_by_square_median = self.med_price_by_square['MedPriceBySquare'].median()\n",
    "        \n",
    "        ## Room, kitchensquare\n",
    "        if y is not None:\n",
    "            self.kitchensquare_max = df['KitchenSquare'].max()\n",
    "            df['Price'] = y.values\n",
    "            df = self.kitchensquare_to_cat(df)\n",
    "            self.med_price_by_rooms_kitchen = df.groupby(['Rooms', 'kitchensquare_cat'], as_index=False).agg({'Price':'median'})\\\n",
    "                                            .rename(columns={'Price':'MedPriceByRoomsKitchen'})\n",
    "            self.med_price_by_rooms_kitchen_median = self.med_price_by_rooms_kitchen['MedPriceByRoomsKitchen'].median()\n",
    "\n",
    "\n",
    "        \n",
    "    def transform(self, X):\n",
    "        \n",
    "        # Binary features\n",
    "        X['Ecology_2'] = X['Ecology_2'].map(self.binary_to_numbers)  # self.binary_to_numbers = {'A': 0, 'B': 1}\n",
    "        X['Ecology_3'] = X['Ecology_3'].map(self.binary_to_numbers)\n",
    "        X['Shops_2'] = X['Shops_2'].map(self.binary_to_numbers)\n",
    "        \n",
    "        # DistrictId, IsDistrictLarge\n",
    "        X = X.merge(self.district_size, on='DistrictId', how='left')\n",
    "        \n",
    "        X['DistrictSize'].fillna(5, inplace=True)\n",
    "        \n",
    "        X['IsDistrictLarge'] = (X['DistrictSize'] > 100).astype(int)\n",
    "        \n",
    "        # More categorical features\n",
    "        X = self.floor_to_cat(X)                 # + столбец floor_cat\n",
    "        X = self.year_to_cat(X)                  # + столбец year_cat\n",
    "        X = self.square_to_cat(X)                # + столбец square_cat\n",
    "        X = self.lifesquare_to_cat(X)            # + столбец lifesquare_cat   \n",
    "        X = self.kitchensquare_to_cat(X)         # + столбец kitchensquare_cat\n",
    "        X = self.housefloor_to_cat(X)            # + столбец housefloor_cat\n",
    "        \n",
    "        # Target encoding\n",
    "        if self.med_price_by_district is not None:\n",
    "            X = X.merge(self.med_price_by_district, on=['DistrictId', 'year_cat'], how='left')\n",
    "            X.fillna(self.med_price_by_district_median, inplace=True)\n",
    "            \n",
    "        if self.med_price_by_district_room is not None:\n",
    "            X = X.merge(self.med_price_by_district_room, on=['DistrictId', 'Rooms'], how='left')\n",
    "            X.fillna(self.med_price_by_district_room_median, inplace=True)\n",
    "            \n",
    "        if self.med_price_by_rooms_kitchen is not None:\n",
    "            X = X.merge(self.med_price_by_rooms_kitchen, on=['Rooms','kitchensquare_cat'], how='left')\n",
    "            X.fillna(self.med_price_by_rooms_kitchen_median, inplace=True)\n",
    "                    \n",
    "        if self.med_price_by_square is not None:\n",
    "            X = X.merge(self.med_price_by_square, on=['square_cat', 'lifesquare_cat'], how='left')\n",
    "            X.fillna(self.med_price_by_square_median, inplace=True)\n",
    "\n",
    "        if self.med_price_by_floor is not None:\n",
    "            X = X.merge(self.med_price_by_floor, on=['housefloor_cat', 'floor_cat'], how='left')\n",
    "            X.fillna(self.med_price_by_floor_median, inplace=True)\n",
    "        \n",
    "        return X\n",
    "    \n",
    "    def floor_to_cat(self, X):\n",
    "        bins = [0, 3, 5, 9, 15, self.floor_max]\n",
    "        X['floor_cat'] = pd.cut(X['Floor'], bins=bins, labels=False)\n",
    "\n",
    "        X['floor_cat'].fillna(-1, inplace=True) \n",
    "        return X\n",
    "     \n",
    "    def year_to_cat(self, X):\n",
    "        bins = [0, 1941, 1945, 1980, 2000, 2010, self.house_year_max]\n",
    "        X['year_cat'] = pd.cut(X['HouseYear'], bins=bins, labels=False)\n",
    "\n",
    "        X['year_cat'].fillna(-1, inplace=True)\n",
    "        return X\n",
    "    \n",
    "    def square_to_cat(self, X):\n",
    "        bins = [0, 30, 80, 150, 300, 500, self.square_max]\n",
    "        X['square_cat'] = pd.cut(X['Square'], bins=bins, labels=False)\n",
    "\n",
    "        X['square_cat'].fillna(-1, inplace=True)\n",
    "        return X\n",
    "    \n",
    "    def lifesquare_to_cat(self, X):\n",
    "        bins = [0, 10, 60, 100, 250, 400, self.lifesquare_max]\n",
    "        X['lifesquare_cat'] = pd.cut(X['LifeSquare'], bins=bins, labels=False)\n",
    "\n",
    "        X['lifesquare_cat'].fillna(-1, inplace=True)\n",
    "        return X\n",
    "    \n",
    "    def kitchensquare_to_cat(self, X):\n",
    "        bins = [0, 5, 40, 80, self.kitchensquare_max]\n",
    "        X['kitchensquare_cat'] = pd.cut(X['KitchenSquare'], bins=bins, labels=False)\n",
    "\n",
    "        X['kitchensquare_cat'].fillna(-1, inplace=True)\n",
    "        return X\n",
    "    \n",
    "    def housefloor_to_cat(self, X):\n",
    "        bins = [0, 5, 20, 40, self.housefloor_max]\n",
    "        X['housefloor_cat'] = pd.cut(X['HouseFloor'], bins=bins, labels=False)\n",
    "\n",
    "        X['housefloor_cat'].fillna(-1, inplace=True)\n",
    "        return X\n",
    "        "
   ]
  },
  {
   "cell_type": "code",
   "execution_count": 9,
   "metadata": {
    "execution": {
     "iopub.execute_input": "2020-10-19T14:04:23.018182Z",
     "iopub.status.busy": "2020-10-19T14:04:23.017389Z",
     "iopub.status.idle": "2020-10-19T14:04:23.157211Z",
     "shell.execute_reply": "2020-10-19T14:04:23.156569Z"
    },
    "papermill": {
     "duration": 0.18179,
     "end_time": "2020-10-19T14:04:23.157347",
     "exception": false,
     "start_time": "2020-10-19T14:04:22.975557",
     "status": "completed"
    },
    "tags": []
   },
   "outputs": [
    {
     "data": {
      "text/plain": [
       "((10000, 23), (5000, 22))"
      ]
     },
     "execution_count": 9,
     "metadata": {},
     "output_type": "execute_result"
    }
   ],
   "source": [
    "train_df = pd.read_csv(TRAIN_DATASET_PATH)\n",
    "test_df = pd.read_csv(TEST_DATASET_PATH)\n",
    "\n",
    "preprocessor = DataPreprocessing()\n",
    "preprocessor.fit(train_df)\n",
    "\n",
    "train_df = preprocessor.transform(train_df)\n",
    "test_df = preprocessor.transform(test_df)\n",
    "train_df.shape, test_df.shape"
   ]
  },
  {
   "cell_type": "code",
   "execution_count": 10,
   "metadata": {
    "execution": {
     "iopub.execute_input": "2020-10-19T14:04:23.222704Z",
     "iopub.status.busy": "2020-10-19T14:04:23.221922Z",
     "iopub.status.idle": "2020-10-19T14:04:23.428765Z",
     "shell.execute_reply": "2020-10-19T14:04:23.428157Z"
    },
    "papermill": {
     "duration": 0.243442,
     "end_time": "2020-10-19T14:04:23.428891",
     "exception": false,
     "start_time": "2020-10-19T14:04:23.185449",
     "status": "completed"
    },
    "tags": []
   },
   "outputs": [
    {
     "data": {
      "text/plain": [
       "((10000, 36), (5000, 35))"
      ]
     },
     "execution_count": 10,
     "metadata": {},
     "output_type": "execute_result"
    }
   ],
   "source": [
    "features_gen = FeatureGenetator()\n",
    "features_gen.fit(train_df.drop(columns='Price'), train_df['Price'])\n",
    "\n",
    "train_df = features_gen.transform(train_df)\n",
    "test_df = features_gen.transform(test_df)\n",
    "train_df.shape, test_df.shape"
   ]
  },
  {
   "cell_type": "code",
   "execution_count": 11,
   "metadata": {
    "execution": {
     "iopub.execute_input": "2020-10-19T14:04:23.494193Z",
     "iopub.status.busy": "2020-10-19T14:04:23.493157Z",
     "iopub.status.idle": "2020-10-19T14:04:23.506046Z",
     "shell.execute_reply": "2020-10-19T14:04:23.505435Z"
    },
    "papermill": {
     "duration": 0.048695,
     "end_time": "2020-10-19T14:04:23.506177",
     "exception": false,
     "start_time": "2020-10-19T14:04:23.457482",
     "status": "completed"
    },
    "tags": []
   },
   "outputs": [
    {
     "data": {
      "text/plain": [
       "(0, 0)"
      ]
     },
     "execution_count": 11,
     "metadata": {},
     "output_type": "execute_result"
    }
   ],
   "source": [
    "train_df.isna().sum().sum(), test_df.isna().sum().sum()"
   ]
  },
  {
   "cell_type": "markdown",
   "metadata": {
    "papermill": {
     "duration": 0.028848,
     "end_time": "2020-10-19T14:04:23.564473",
     "exception": false,
     "start_time": "2020-10-19T14:04:23.535625",
     "status": "completed"
    },
    "tags": []
   },
   "source": [
    "### 4. Отбор признаков"
   ]
  },
  {
   "cell_type": "code",
   "execution_count": 12,
   "metadata": {
    "execution": {
     "iopub.execute_input": "2020-10-19T14:04:23.631215Z",
     "iopub.status.busy": "2020-10-19T14:04:23.630392Z",
     "iopub.status.idle": "2020-10-19T14:04:23.634060Z",
     "shell.execute_reply": "2020-10-19T14:04:23.633291Z"
    },
    "papermill": {
     "duration": 0.04066,
     "end_time": "2020-10-19T14:04:23.634192",
     "exception": false,
     "start_time": "2020-10-19T14:04:23.593532",
     "status": "completed"
    },
    "tags": []
   },
   "outputs": [],
   "source": [
    "# feature_names = ['Rooms', 'Square', 'LifeSquare', 'KitchenSquare', 'Floor', 'HouseFloor', 'HouseYear',\n",
    "#                  'Ecology_1', 'Ecology_2', 'Ecology_3', 'Social_1',\n",
    "#                  'Helthcare_2', 'Shops_1']\n",
    "\n",
    "# new_feature_names = ['Rooms_outlier', 'HouseFloor_outlier', 'HouseYear_outlier', 'DistrictSize',\n",
    "#                       'IsDistrictLarge',  'MedPriceByDistrict', 'MedPriceByFloorYear', 'MedPriceBySquare']\n",
    "\n",
    "feature_names = ['Rooms', 'Square', 'LifeSquare', 'KitchenSquare', 'Floor', 'HouseFloor', 'HouseYear',\n",
    "                  'Ecology_1', 'Ecology_2', 'Ecology_3', 'Social_1',\n",
    "                  'Helthcare_2', 'Shops_1']\n",
    "\n",
    "new_feature_names = ['HouseFloor_outlier', 'DistrictSize', 'MedPriceByDistrict', 'MedPriceByDistrictRoom', 'MedPriceByFloor', 'MedPriceBySquare', \n",
    "                     'MedPriceByRoomsKitchen']\n",
    "\n",
    "\n",
    "target_name = 'Price'"
   ]
  },
  {
   "cell_type": "markdown",
   "metadata": {
    "papermill": {
     "duration": 0.029264,
     "end_time": "2020-10-19T14:04:23.693044",
     "exception": false,
     "start_time": "2020-10-19T14:04:23.663780",
     "status": "completed"
    },
    "tags": []
   },
   "source": [
    "### 5. Разбиение на train и test"
   ]
  },
  {
   "cell_type": "code",
   "execution_count": 13,
   "metadata": {
    "execution": {
     "iopub.execute_input": "2020-10-19T14:04:23.761545Z",
     "iopub.status.busy": "2020-10-19T14:04:23.760621Z",
     "iopub.status.idle": "2020-10-19T14:04:23.778902Z",
     "shell.execute_reply": "2020-10-19T14:04:23.778023Z"
    },
    "papermill": {
     "duration": 0.056414,
     "end_time": "2020-10-19T14:04:23.779066",
     "exception": false,
     "start_time": "2020-10-19T14:04:23.722652",
     "status": "completed"
    },
    "tags": []
   },
   "outputs": [],
   "source": [
    "X = train_df[feature_names + new_feature_names]\n",
    "y = train_df[target_name]\n",
    "\n",
    "test_df = test_df[feature_names + new_feature_names]\n",
    "\n",
    "X_train, X_test, y_train, y_test = train_test_split(X, y, test_size=0.33, shuffle=True, random_state=21)"
   ]
  },
  {
   "cell_type": "markdown",
   "metadata": {
    "papermill": {
     "duration": 0.029727,
     "end_time": "2020-10-19T14:04:23.839681",
     "exception": false,
     "start_time": "2020-10-19T14:04:23.809954",
     "status": "completed"
    },
    "tags": []
   },
   "source": [
    "### 6. Построение модели"
   ]
  },
  {
   "cell_type": "code",
   "execution_count": 14,
   "metadata": {
    "execution": {
     "iopub.execute_input": "2020-10-19T14:04:23.907781Z",
     "iopub.status.busy": "2020-10-19T14:04:23.906898Z",
     "iopub.status.idle": "2020-10-19T14:04:29.634718Z",
     "shell.execute_reply": "2020-10-19T14:04:29.633920Z"
    },
    "papermill": {
     "duration": 5.76561,
     "end_time": "2020-10-19T14:04:29.634852",
     "exception": false,
     "start_time": "2020-10-19T14:04:23.869242",
     "status": "completed"
    },
    "tags": []
   },
   "outputs": [
    {
     "data": {
      "text/plain": [
       "RandomForestRegressor(random_state=21)"
      ]
     },
     "execution_count": 14,
     "metadata": {},
     "output_type": "execute_result"
    }
   ],
   "source": [
    "rf_model = RandomForestRegressor(random_state=21, criterion='mse')\n",
    "rf_model.fit(X_train, y_train)"
   ]
  },
  {
   "cell_type": "code",
   "execution_count": 15,
   "metadata": {
    "execution": {
     "iopub.execute_input": "2020-10-19T14:04:29.704734Z",
     "iopub.status.busy": "2020-10-19T14:04:29.703945Z",
     "iopub.status.idle": "2020-10-19T14:04:30.435237Z",
     "shell.execute_reply": "2020-10-19T14:04:30.435813Z"
    },
    "papermill": {
     "duration": 0.770504,
     "end_time": "2020-10-19T14:04:30.435968",
     "exception": false,
     "start_time": "2020-10-19T14:04:29.665464",
     "status": "completed"
    },
    "tags": []
   },
   "outputs": [
    {
     "name": "stdout",
     "output_type": "stream",
     "text": [
      "Train R2:\t0.966\n",
      "Test R2:\t0.76\n"
     ]
    },
    {
     "data": {
      "image/png": "[encoded data removed]",
      "text/plain": [
       "<Figure size 1296x720 with 2 Axes>"
      ]
     },
     "metadata": {
      "needs_background": "light"
     },
     "output_type": "display_data"
    }
   ],
   "source": [
    "y_train_preds = rf_model.predict(X_train)\n",
    "y_test_preds = rf_model.predict(X_test)\n",
    "\n",
    "evaluate_preds(y_train, y_train_preds, y_test, y_test_preds)"
   ]
  },
  {
   "cell_type": "code",
   "execution_count": 16,
   "metadata": {
    "execution": {
     "iopub.execute_input": "2020-10-19T14:04:30.513417Z",
     "iopub.status.busy": "2020-10-19T14:04:30.512543Z",
     "iopub.status.idle": "2020-10-19T14:04:47.629103Z",
     "shell.execute_reply": "2020-10-19T14:04:47.628331Z"
    },
    "papermill": {
     "duration": 17.158108,
     "end_time": "2020-10-19T14:04:47.629239",
     "exception": false,
     "start_time": "2020-10-19T14:04:30.471131",
     "status": "completed"
    },
    "tags": []
   },
   "outputs": [
    {
     "data": {
      "text/plain": [
       "array([0.75902829, 0.73931765, 0.7867616 ])"
      ]
     },
     "execution_count": 16,
     "metadata": {},
     "output_type": "execute_result"
    }
   ],
   "source": [
    "cv_score = cross_val_score(rf_model, X, y, scoring='r2', cv=KFold(n_splits=3, shuffle=True, random_state=21))\n",
    "cv_score"
   ]
  },
  {
   "cell_type": "code",
   "execution_count": 17,
   "metadata": {
    "execution": {
     "iopub.execute_input": "2020-10-19T14:04:47.709715Z",
     "iopub.status.busy": "2020-10-19T14:04:47.708719Z",
     "iopub.status.idle": "2020-10-19T14:04:47.713339Z",
     "shell.execute_reply": "2020-10-19T14:04:47.712699Z"
    },
    "papermill": {
     "duration": 0.046523,
     "end_time": "2020-10-19T14:04:47.713463",
     "exception": false,
     "start_time": "2020-10-19T14:04:47.666940",
     "status": "completed"
    },
    "tags": []
   },
   "outputs": [
    {
     "data": {
      "text/plain": [
       "0.7617025134160418"
      ]
     },
     "execution_count": 17,
     "metadata": {},
     "output_type": "execute_result"
    }
   ],
   "source": [
    "cv_score.mean()"
   ]
  },
  {
   "cell_type": "code",
   "execution_count": 18,
   "metadata": {
    "execution": {
     "iopub.execute_input": "2020-10-19T14:04:47.792744Z",
     "iopub.status.busy": "2020-10-19T14:04:47.791946Z",
     "iopub.status.idle": "2020-10-19T14:04:47.834106Z",
     "shell.execute_reply": "2020-10-19T14:04:47.833331Z"
    },
    "papermill": {
     "duration": 0.08452,
     "end_time": "2020-10-19T14:04:47.834242",
     "exception": false,
     "start_time": "2020-10-19T14:04:47.749722",
     "status": "completed"
    },
    "tags": []
   },
   "outputs": [
    {
     "data": {
      "text/html": [
       "<div>\n",
       "<style scoped>\n",
       "    .dataframe tbody tr th:only-of-type {\n",
       "        vertical-align: middle;\n",
       "    }\n",
       "\n",
       "    .dataframe tbody tr th {\n",
       "        vertical-align: top;\n",
       "    }\n",
       "\n",
       "    .dataframe thead th {\n",
       "        text-align: right;\n",
       "    }\n",
       "</style>\n",
       "<table border=\"1\" class=\"dataframe\">\n",
       "  <thead>\n",
       "    <tr style=\"text-align: right;\">\n",
       "      <th></th>\n",
       "      <th>feature_name</th>\n",
       "      <th>importance</th>\n",
       "    </tr>\n",
       "  </thead>\n",
       "  <tbody>\n",
       "    <tr>\n",
       "      <th>16</th>\n",
       "      <td>MedPriceByDistrictRoom</td>\n",
       "      <td>0.528076</td>\n",
       "    </tr>\n",
       "    <tr>\n",
       "      <th>1</th>\n",
       "      <td>Square</td>\n",
       "      <td>0.157167</td>\n",
       "    </tr>\n",
       "    <tr>\n",
       "      <th>15</th>\n",
       "      <td>MedPriceByDistrict</td>\n",
       "      <td>0.124604</td>\n",
       "    </tr>\n",
       "    <tr>\n",
       "      <th>3</th>\n",
       "      <td>KitchenSquare</td>\n",
       "      <td>0.025050</td>\n",
       "    </tr>\n",
       "    <tr>\n",
       "      <th>2</th>\n",
       "      <td>LifeSquare</td>\n",
       "      <td>0.023850</td>\n",
       "    </tr>\n",
       "    <tr>\n",
       "      <th>6</th>\n",
       "      <td>HouseYear</td>\n",
       "      <td>0.023506</td>\n",
       "    </tr>\n",
       "    <tr>\n",
       "      <th>10</th>\n",
       "      <td>Social_1</td>\n",
       "      <td>0.020694</td>\n",
       "    </tr>\n",
       "    <tr>\n",
       "      <th>14</th>\n",
       "      <td>DistrictSize</td>\n",
       "      <td>0.016856</td>\n",
       "    </tr>\n",
       "    <tr>\n",
       "      <th>4</th>\n",
       "      <td>Floor</td>\n",
       "      <td>0.014746</td>\n",
       "    </tr>\n",
       "    <tr>\n",
       "      <th>7</th>\n",
       "      <td>Ecology_1</td>\n",
       "      <td>0.014138</td>\n",
       "    </tr>\n",
       "    <tr>\n",
       "      <th>5</th>\n",
       "      <td>HouseFloor</td>\n",
       "      <td>0.013013</td>\n",
       "    </tr>\n",
       "    <tr>\n",
       "      <th>12</th>\n",
       "      <td>Shops_1</td>\n",
       "      <td>0.010523</td>\n",
       "    </tr>\n",
       "    <tr>\n",
       "      <th>17</th>\n",
       "      <td>MedPriceByFloor</td>\n",
       "      <td>0.010002</td>\n",
       "    </tr>\n",
       "    <tr>\n",
       "      <th>11</th>\n",
       "      <td>Helthcare_2</td>\n",
       "      <td>0.006785</td>\n",
       "    </tr>\n",
       "    <tr>\n",
       "      <th>18</th>\n",
       "      <td>MedPriceBySquare</td>\n",
       "      <td>0.003507</td>\n",
       "    </tr>\n",
       "    <tr>\n",
       "      <th>19</th>\n",
       "      <td>MedPriceByRoomsKitchen</td>\n",
       "      <td>0.002933</td>\n",
       "    </tr>\n",
       "    <tr>\n",
       "      <th>13</th>\n",
       "      <td>HouseFloor_outlier</td>\n",
       "      <td>0.001888</td>\n",
       "    </tr>\n",
       "    <tr>\n",
       "      <th>0</th>\n",
       "      <td>Rooms</td>\n",
       "      <td>0.001372</td>\n",
       "    </tr>\n",
       "    <tr>\n",
       "      <th>9</th>\n",
       "      <td>Ecology_3</td>\n",
       "      <td>0.001120</td>\n",
       "    </tr>\n",
       "    <tr>\n",
       "      <th>8</th>\n",
       "      <td>Ecology_2</td>\n",
       "      <td>0.000170</td>\n",
       "    </tr>\n",
       "  </tbody>\n",
       "</table>\n",
       "</div>"
      ],
      "text/plain": [
       "              feature_name  importance\n",
       "16  MedPriceByDistrictRoom    0.528076\n",
       "1                   Square    0.157167\n",
       "15      MedPriceByDistrict    0.124604\n",
       "3            KitchenSquare    0.025050\n",
       "2               LifeSquare    0.023850\n",
       "6                HouseYear    0.023506\n",
       "10                Social_1    0.020694\n",
       "14            DistrictSize    0.016856\n",
       "4                    Floor    0.014746\n",
       "7                Ecology_1    0.014138\n",
       "5               HouseFloor    0.013013\n",
       "12                 Shops_1    0.010523\n",
       "17         MedPriceByFloor    0.010002\n",
       "11             Helthcare_2    0.006785\n",
       "18        MedPriceBySquare    0.003507\n",
       "19  MedPriceByRoomsKitchen    0.002933\n",
       "13      HouseFloor_outlier    0.001888\n",
       "0                    Rooms    0.001372\n",
       "9                Ecology_3    0.001120\n",
       "8                Ecology_2    0.000170"
      ]
     },
     "execution_count": 18,
     "metadata": {},
     "output_type": "execute_result"
    }
   ],
   "source": [
    "feature_importances = pd.DataFrame(zip(X_train.columns, rf_model.feature_importances_), \n",
    "                                   columns=['feature_name', 'importance'])\n",
    "\n",
    "feature_importances.sort_values(by='importance', ascending=False)"
   ]
  },
  {
   "cell_type": "code",
   "execution_count": 19,
   "metadata": {
    "execution": {
     "iopub.execute_input": "2020-10-19T14:04:47.915498Z",
     "iopub.status.busy": "2020-10-19T14:04:47.914682Z",
     "iopub.status.idle": "2020-10-19T14:04:48.653784Z",
     "shell.execute_reply": "2020-10-19T14:04:48.652963Z"
    },
    "papermill": {
     "duration": 0.782468,
     "end_time": "2020-10-19T14:04:48.653919",
     "exception": false,
     "start_time": "2020-10-19T14:04:47.871451",
     "status": "completed"
    },
    "tags": []
   },
   "outputs": [
    {
     "data": {
      "image/png": "[encoded data removed]",
      "text/plain": [
       "<Figure size 1800x576 with 1 Axes>"
      ]
     },
     "metadata": {
      "needs_background": "light"
     },
     "output_type": "display_data"
    }
   ],
   "source": [
    "rcParams[\"figure.figsize\"] = 25, 8\n",
    "\n",
    "plt.plot(feature_names+new_feature_names, rf_model.feature_importances_)\n",
    "plt.yscale(value=\"log\")\n",
    "plt.show()"
   ]
  },
  {
   "cell_type": "code",
   "execution_count": 20,
   "metadata": {
    "execution": {
     "iopub.execute_input": "2020-10-19T14:04:48.739701Z",
     "iopub.status.busy": "2020-10-19T14:04:48.738924Z",
     "iopub.status.idle": "2020-10-19T14:05:05.912114Z",
     "shell.execute_reply": "2020-10-19T14:05:05.911299Z"
    },
    "papermill": {
     "duration": 17.219164,
     "end_time": "2020-10-19T14:05:05.912265",
     "exception": false,
     "start_time": "2020-10-19T14:04:48.693101",
     "status": "completed"
    },
    "tags": []
   },
   "outputs": [
    {
     "data": {
      "text/plain": [
       "array([0.75902829, 0.73931765, 0.7867616 ])"
      ]
     },
     "execution_count": 20,
     "metadata": {},
     "output_type": "execute_result"
    }
   ],
   "source": [
    "cv_score = cross_val_score(rf_model, X, y, scoring='r2', cv=KFold(n_splits=3, shuffle=True, random_state=21))\n",
    "cv_score"
   ]
  },
  {
   "cell_type": "code",
   "execution_count": 21,
   "metadata": {
    "execution": {
     "iopub.execute_input": "2020-10-19T14:05:05.997884Z",
     "iopub.status.busy": "2020-10-19T14:05:05.996756Z",
     "iopub.status.idle": "2020-10-19T14:05:06.000960Z",
     "shell.execute_reply": "2020-10-19T14:05:06.001577Z"
    },
    "papermill": {
     "duration": 0.050026,
     "end_time": "2020-10-19T14:05:06.001732",
     "exception": false,
     "start_time": "2020-10-19T14:05:05.951706",
     "status": "completed"
    },
    "tags": []
   },
   "outputs": [
    {
     "data": {
      "text/plain": [
       "0.7617025134160418"
      ]
     },
     "execution_count": 21,
     "metadata": {},
     "output_type": "execute_result"
    }
   ],
   "source": [
    "cv_score.mean()"
   ]
  },
  {
   "cell_type": "code",
   "execution_count": 22,
   "metadata": {
    "execution": {
     "iopub.execute_input": "2020-10-19T14:05:06.090670Z",
     "iopub.status.busy": "2020-10-19T14:05:06.089454Z",
     "iopub.status.idle": "2020-10-19T14:05:06.127651Z",
     "shell.execute_reply": "2020-10-19T14:05:06.127034Z"
    },
    "papermill": {
     "duration": 0.085184,
     "end_time": "2020-10-19T14:05:06.127784",
     "exception": false,
     "start_time": "2020-10-19T14:05:06.042600",
     "status": "completed"
    },
    "tags": []
   },
   "outputs": [
    {
     "data": {
      "text/html": [
       "<div>\n",
       "<style scoped>\n",
       "    .dataframe tbody tr th:only-of-type {\n",
       "        vertical-align: middle;\n",
       "    }\n",
       "\n",
       "    .dataframe tbody tr th {\n",
       "        vertical-align: top;\n",
       "    }\n",
       "\n",
       "    .dataframe thead th {\n",
       "        text-align: right;\n",
       "    }\n",
       "</style>\n",
       "<table border=\"1\" class=\"dataframe\">\n",
       "  <thead>\n",
       "    <tr style=\"text-align: right;\">\n",
       "      <th></th>\n",
       "      <th>feature_name</th>\n",
       "      <th>importance</th>\n",
       "    </tr>\n",
       "  </thead>\n",
       "  <tbody>\n",
       "    <tr>\n",
       "      <th>16</th>\n",
       "      <td>MedPriceByDistrictRoom</td>\n",
       "      <td>0.528076</td>\n",
       "    </tr>\n",
       "    <tr>\n",
       "      <th>1</th>\n",
       "      <td>Square</td>\n",
       "      <td>0.157167</td>\n",
       "    </tr>\n",
       "    <tr>\n",
       "      <th>15</th>\n",
       "      <td>MedPriceByDistrict</td>\n",
       "      <td>0.124604</td>\n",
       "    </tr>\n",
       "    <tr>\n",
       "      <th>3</th>\n",
       "      <td>KitchenSquare</td>\n",
       "      <td>0.025050</td>\n",
       "    </tr>\n",
       "    <tr>\n",
       "      <th>2</th>\n",
       "      <td>LifeSquare</td>\n",
       "      <td>0.023850</td>\n",
       "    </tr>\n",
       "    <tr>\n",
       "      <th>6</th>\n",
       "      <td>HouseYear</td>\n",
       "      <td>0.023506</td>\n",
       "    </tr>\n",
       "    <tr>\n",
       "      <th>10</th>\n",
       "      <td>Social_1</td>\n",
       "      <td>0.020694</td>\n",
       "    </tr>\n",
       "    <tr>\n",
       "      <th>14</th>\n",
       "      <td>DistrictSize</td>\n",
       "      <td>0.016856</td>\n",
       "    </tr>\n",
       "    <tr>\n",
       "      <th>4</th>\n",
       "      <td>Floor</td>\n",
       "      <td>0.014746</td>\n",
       "    </tr>\n",
       "    <tr>\n",
       "      <th>7</th>\n",
       "      <td>Ecology_1</td>\n",
       "      <td>0.014138</td>\n",
       "    </tr>\n",
       "    <tr>\n",
       "      <th>5</th>\n",
       "      <td>HouseFloor</td>\n",
       "      <td>0.013013</td>\n",
       "    </tr>\n",
       "    <tr>\n",
       "      <th>12</th>\n",
       "      <td>Shops_1</td>\n",
       "      <td>0.010523</td>\n",
       "    </tr>\n",
       "    <tr>\n",
       "      <th>17</th>\n",
       "      <td>MedPriceByFloor</td>\n",
       "      <td>0.010002</td>\n",
       "    </tr>\n",
       "    <tr>\n",
       "      <th>11</th>\n",
       "      <td>Helthcare_2</td>\n",
       "      <td>0.006785</td>\n",
       "    </tr>\n",
       "    <tr>\n",
       "      <th>18</th>\n",
       "      <td>MedPriceBySquare</td>\n",
       "      <td>0.003507</td>\n",
       "    </tr>\n",
       "    <tr>\n",
       "      <th>19</th>\n",
       "      <td>MedPriceByRoomsKitchen</td>\n",
       "      <td>0.002933</td>\n",
       "    </tr>\n",
       "    <tr>\n",
       "      <th>13</th>\n",
       "      <td>HouseFloor_outlier</td>\n",
       "      <td>0.001888</td>\n",
       "    </tr>\n",
       "    <tr>\n",
       "      <th>0</th>\n",
       "      <td>Rooms</td>\n",
       "      <td>0.001372</td>\n",
       "    </tr>\n",
       "    <tr>\n",
       "      <th>9</th>\n",
       "      <td>Ecology_3</td>\n",
       "      <td>0.001120</td>\n",
       "    </tr>\n",
       "    <tr>\n",
       "      <th>8</th>\n",
       "      <td>Ecology_2</td>\n",
       "      <td>0.000170</td>\n",
       "    </tr>\n",
       "  </tbody>\n",
       "</table>\n",
       "</div>"
      ],
      "text/plain": [
       "              feature_name  importance\n",
       "16  MedPriceByDistrictRoom    0.528076\n",
       "1                   Square    0.157167\n",
       "15      MedPriceByDistrict    0.124604\n",
       "3            KitchenSquare    0.025050\n",
       "2               LifeSquare    0.023850\n",
       "6                HouseYear    0.023506\n",
       "10                Social_1    0.020694\n",
       "14            DistrictSize    0.016856\n",
       "4                    Floor    0.014746\n",
       "7                Ecology_1    0.014138\n",
       "5               HouseFloor    0.013013\n",
       "12                 Shops_1    0.010523\n",
       "17         MedPriceByFloor    0.010002\n",
       "11             Helthcare_2    0.006785\n",
       "18        MedPriceBySquare    0.003507\n",
       "19  MedPriceByRoomsKitchen    0.002933\n",
       "13      HouseFloor_outlier    0.001888\n",
       "0                    Rooms    0.001372\n",
       "9                Ecology_3    0.001120\n",
       "8                Ecology_2    0.000170"
      ]
     },
     "execution_count": 22,
     "metadata": {},
     "output_type": "execute_result"
    }
   ],
   "source": [
    "feature_importances = pd.DataFrame(zip(X_train.columns, rf_model.feature_importances_), \n",
    "                                   columns=['feature_name', 'importance'])\n",
    "\n",
    "feature_importances.sort_values(by='importance', ascending=False)"
   ]
  },
  {
   "cell_type": "markdown",
   "metadata": {
    "papermill": {
     "duration": 0.040561,
     "end_time": "2020-10-19T14:05:06.209912",
     "exception": false,
     "start_time": "2020-10-19T14:05:06.169351",
     "status": "completed"
    },
    "tags": []
   },
   "source": [
    "### 7. Прогнозирование"
   ]
  },
  {
   "cell_type": "code",
   "execution_count": 23,
   "metadata": {
    "execution": {
     "iopub.execute_input": "2020-10-19T14:05:06.317838Z",
     "iopub.status.busy": "2020-10-19T14:05:06.316783Z",
     "iopub.status.idle": "2020-10-19T14:05:06.321830Z",
     "shell.execute_reply": "2020-10-19T14:05:06.321248Z"
    },
    "papermill": {
     "duration": 0.07109,
     "end_time": "2020-10-19T14:05:06.321961",
     "exception": false,
     "start_time": "2020-10-19T14:05:06.250871",
     "status": "completed"
    },
    "tags": []
   },
   "outputs": [
    {
     "data": {
      "text/html": [
       "<div>\n",
       "<style scoped>\n",
       "    .dataframe tbody tr th:only-of-type {\n",
       "        vertical-align: middle;\n",
       "    }\n",
       "\n",
       "    .dataframe tbody tr th {\n",
       "        vertical-align: top;\n",
       "    }\n",
       "\n",
       "    .dataframe thead th {\n",
       "        text-align: right;\n",
       "    }\n",
       "</style>\n",
       "<table border=\"1\" class=\"dataframe\">\n",
       "  <thead>\n",
       "    <tr style=\"text-align: right;\">\n",
       "      <th></th>\n",
       "      <th>Rooms</th>\n",
       "      <th>Square</th>\n",
       "      <th>LifeSquare</th>\n",
       "      <th>KitchenSquare</th>\n",
       "      <th>Floor</th>\n",
       "      <th>HouseFloor</th>\n",
       "      <th>HouseYear</th>\n",
       "      <th>Ecology_1</th>\n",
       "      <th>Ecology_2</th>\n",
       "      <th>Ecology_3</th>\n",
       "      <th>Social_1</th>\n",
       "      <th>Helthcare_2</th>\n",
       "      <th>Shops_1</th>\n",
       "      <th>HouseFloor_outlier</th>\n",
       "      <th>DistrictSize</th>\n",
       "      <th>MedPriceByDistrict</th>\n",
       "      <th>MedPriceByDistrictRoom</th>\n",
       "      <th>MedPriceByFloor</th>\n",
       "      <th>MedPriceBySquare</th>\n",
       "      <th>MedPriceByRoomsKitchen</th>\n",
       "    </tr>\n",
       "  </thead>\n",
       "  <tbody>\n",
       "    <tr>\n",
       "      <th>0</th>\n",
       "      <td>1.0</td>\n",
       "      <td>36.847630</td>\n",
       "      <td>19.094182</td>\n",
       "      <td>5.000000</td>\n",
       "      <td>5.0</td>\n",
       "      <td>9.0</td>\n",
       "      <td>1970</td>\n",
       "      <td>0.036122</td>\n",
       "      <td>1</td>\n",
       "      <td>1</td>\n",
       "      <td>24</td>\n",
       "      <td>1</td>\n",
       "      <td>1</td>\n",
       "      <td>0</td>\n",
       "      <td>104.0</td>\n",
       "      <td>190200.806033</td>\n",
       "      <td>171145.169069</td>\n",
       "      <td>195114.173473</td>\n",
       "      <td>186084.069628</td>\n",
       "      <td>154030.205137</td>\n",
       "    </tr>\n",
       "    <tr>\n",
       "      <th>1</th>\n",
       "      <td>1.0</td>\n",
       "      <td>42.493907</td>\n",
       "      <td>23.995126</td>\n",
       "      <td>10.000000</td>\n",
       "      <td>7.0</td>\n",
       "      <td>17.0</td>\n",
       "      <td>2017</td>\n",
       "      <td>0.072158</td>\n",
       "      <td>1</td>\n",
       "      <td>1</td>\n",
       "      <td>2</td>\n",
       "      <td>0</td>\n",
       "      <td>0</td>\n",
       "      <td>0</td>\n",
       "      <td>247.0</td>\n",
       "      <td>156419.550709</td>\n",
       "      <td>129107.218932</td>\n",
       "      <td>197826.661941</td>\n",
       "      <td>186084.069628</td>\n",
       "      <td>155120.084521</td>\n",
       "    </tr>\n",
       "    <tr>\n",
       "      <th>2</th>\n",
       "      <td>2.0</td>\n",
       "      <td>59.463678</td>\n",
       "      <td>32.781260</td>\n",
       "      <td>9.000000</td>\n",
       "      <td>19.0</td>\n",
       "      <td>19.0</td>\n",
       "      <td>1977</td>\n",
       "      <td>0.211401</td>\n",
       "      <td>1</td>\n",
       "      <td>1</td>\n",
       "      <td>9</td>\n",
       "      <td>0</td>\n",
       "      <td>1</td>\n",
       "      <td>0</td>\n",
       "      <td>851.0</td>\n",
       "      <td>145436.023704</td>\n",
       "      <td>166268.959295</td>\n",
       "      <td>192054.229594</td>\n",
       "      <td>186084.069628</td>\n",
       "      <td>206507.108185</td>\n",
       "    </tr>\n",
       "    <tr>\n",
       "      <th>3</th>\n",
       "      <td>3.0</td>\n",
       "      <td>49.646030</td>\n",
       "      <td>33.893825</td>\n",
       "      <td>6.000000</td>\n",
       "      <td>2.0</td>\n",
       "      <td>2.0</td>\n",
       "      <td>1965</td>\n",
       "      <td>0.014073</td>\n",
       "      <td>1</td>\n",
       "      <td>1</td>\n",
       "      <td>2</td>\n",
       "      <td>0</td>\n",
       "      <td>0</td>\n",
       "      <td>0</td>\n",
       "      <td>565.0</td>\n",
       "      <td>117557.136022</td>\n",
       "      <td>166687.735824</td>\n",
       "      <td>179505.786361</td>\n",
       "      <td>186084.069628</td>\n",
       "      <td>278970.795628</td>\n",
       "    </tr>\n",
       "    <tr>\n",
       "      <th>4</th>\n",
       "      <td>1.0</td>\n",
       "      <td>53.837056</td>\n",
       "      <td>32.781260</td>\n",
       "      <td>16.151117</td>\n",
       "      <td>8.0</td>\n",
       "      <td>17.0</td>\n",
       "      <td>1977</td>\n",
       "      <td>0.309479</td>\n",
       "      <td>1</td>\n",
       "      <td>1</td>\n",
       "      <td>35</td>\n",
       "      <td>0</td>\n",
       "      <td>6</td>\n",
       "      <td>0</td>\n",
       "      <td>114.0</td>\n",
       "      <td>195389.936837</td>\n",
       "      <td>165071.825722</td>\n",
       "      <td>197826.661941</td>\n",
       "      <td>186084.069628</td>\n",
       "      <td>155120.084521</td>\n",
       "    </tr>\n",
       "  </tbody>\n",
       "</table>\n",
       "</div>"
      ],
      "text/plain": [
       "   Rooms     Square  LifeSquare  KitchenSquare  Floor  HouseFloor  HouseYear  \\\n",
       "0    1.0  36.847630   19.094182       5.000000    5.0         9.0       1970   \n",
       "1    1.0  42.493907   23.995126      10.000000    7.0        17.0       2017   \n",
       "2    2.0  59.463678   32.781260       9.000000   19.0        19.0       1977   \n",
       "3    3.0  49.646030   33.893825       6.000000    2.0         2.0       1965   \n",
       "4    1.0  53.837056   32.781260      16.151117    8.0        17.0       1977   \n",
       "\n",
       "   Ecology_1  Ecology_2  Ecology_3  Social_1  Helthcare_2  Shops_1  \\\n",
       "0   0.036122          1          1        24            1        1   \n",
       "1   0.072158          1          1         2            0        0   \n",
       "2   0.211401          1          1         9            0        1   \n",
       "3   0.014073          1          1         2            0        0   \n",
       "4   0.309479          1          1        35            0        6   \n",
       "\n",
       "   HouseFloor_outlier  DistrictSize  MedPriceByDistrict  \\\n",
       "0                   0         104.0       190200.806033   \n",
       "1                   0         247.0       156419.550709   \n",
       "2                   0         851.0       145436.023704   \n",
       "3                   0         565.0       117557.136022   \n",
       "4                   0         114.0       195389.936837   \n",
       "\n",
       "   MedPriceByDistrictRoom  MedPriceByFloor  MedPriceBySquare  \\\n",
       "0           171145.169069    195114.173473     186084.069628   \n",
       "1           129107.218932    197826.661941     186084.069628   \n",
       "2           166268.959295    192054.229594     186084.069628   \n",
       "3           166687.735824    179505.786361     186084.069628   \n",
       "4           165071.825722    197826.661941     186084.069628   \n",
       "\n",
       "   MedPriceByRoomsKitchen  \n",
       "0           154030.205137  \n",
       "1           155120.084521  \n",
       "2           206507.108185  \n",
       "3           278970.795628  \n",
       "4           155120.084521  "
      ]
     },
     "execution_count": 23,
     "metadata": {},
     "output_type": "execute_result"
    }
   ],
   "source": [
    "test_df.head()"
   ]
  },
  {
   "cell_type": "code",
   "execution_count": 24,
   "metadata": {
    "execution": {
     "iopub.execute_input": "2020-10-19T14:05:06.414866Z",
     "iopub.status.busy": "2020-10-19T14:05:06.413738Z",
     "iopub.status.idle": "2020-10-19T14:05:06.429717Z",
     "shell.execute_reply": "2020-10-19T14:05:06.428895Z"
    },
    "papermill": {
     "duration": 0.065939,
     "end_time": "2020-10-19T14:05:06.429852",
     "exception": false,
     "start_time": "2020-10-19T14:05:06.363913",
     "status": "completed"
    },
    "tags": []
   },
   "outputs": [
    {
     "data": {
      "text/html": [
       "<div>\n",
       "<style scoped>\n",
       "    .dataframe tbody tr th:only-of-type {\n",
       "        vertical-align: middle;\n",
       "    }\n",
       "\n",
       "    .dataframe tbody tr th {\n",
       "        vertical-align: top;\n",
       "    }\n",
       "\n",
       "    .dataframe thead th {\n",
       "        text-align: right;\n",
       "    }\n",
       "</style>\n",
       "<table border=\"1\" class=\"dataframe\">\n",
       "  <thead>\n",
       "    <tr style=\"text-align: right;\">\n",
       "      <th></th>\n",
       "      <th>Id</th>\n",
       "      <th>Price</th>\n",
       "    </tr>\n",
       "  </thead>\n",
       "  <tbody>\n",
       "    <tr>\n",
       "      <th>0</th>\n",
       "      <td>4567</td>\n",
       "      <td>200000.0</td>\n",
       "    </tr>\n",
       "    <tr>\n",
       "      <th>1</th>\n",
       "      <td>5925</td>\n",
       "      <td>200000.0</td>\n",
       "    </tr>\n",
       "    <tr>\n",
       "      <th>2</th>\n",
       "      <td>960</td>\n",
       "      <td>200000.0</td>\n",
       "    </tr>\n",
       "    <tr>\n",
       "      <th>3</th>\n",
       "      <td>3848</td>\n",
       "      <td>200000.0</td>\n",
       "    </tr>\n",
       "    <tr>\n",
       "      <th>4</th>\n",
       "      <td>746</td>\n",
       "      <td>200000.0</td>\n",
       "    </tr>\n",
       "  </tbody>\n",
       "</table>\n",
       "</div>"
      ],
      "text/plain": [
       "     Id     Price\n",
       "0  4567  200000.0\n",
       "1  5925  200000.0\n",
       "2   960  200000.0\n",
       "3  3848  200000.0\n",
       "4   746  200000.0"
      ]
     },
     "execution_count": 24,
     "metadata": {},
     "output_type": "execute_result"
    }
   ],
   "source": [
    "submit = pd.read_csv('/kaggle/input/real-estate-price-prediction-moscow/sample_submission.csv')\n",
    "submit.head()"
   ]
  },
  {
   "cell_type": "code",
   "execution_count": 25,
   "metadata": {
    "execution": {
     "iopub.execute_input": "2020-10-19T14:05:06.524496Z",
     "iopub.status.busy": "2020-10-19T14:05:06.523616Z",
     "iopub.status.idle": "2020-10-19T14:05:06.659394Z",
     "shell.execute_reply": "2020-10-19T14:05:06.659936Z"
    },
    "papermill": {
     "duration": 0.187408,
     "end_time": "2020-10-19T14:05:06.660131",
     "exception": false,
     "start_time": "2020-10-19T14:05:06.472723",
     "status": "completed"
    },
    "tags": []
   },
   "outputs": [
    {
     "data": {
      "text/plain": [
       "array([164841.63937437, 124387.48658987, 136110.60796621, ...,\n",
       "       151733.8189274 , 183106.45240211, 281281.40400514])"
      ]
     },
     "execution_count": 25,
     "metadata": {},
     "output_type": "execute_result"
    }
   ],
   "source": [
    "predictions = rf_model.predict(test_df)\n",
    "predictions"
   ]
  },
  {
   "cell_type": "code",
   "execution_count": 26,
   "metadata": {
    "execution": {
     "iopub.execute_input": "2020-10-19T14:05:06.757448Z",
     "iopub.status.busy": "2020-10-19T14:05:06.751983Z",
     "iopub.status.idle": "2020-10-19T14:05:06.762560Z",
     "shell.execute_reply": "2020-10-19T14:05:06.761931Z"
    },
    "papermill": {
     "duration": 0.058916,
     "end_time": "2020-10-19T14:05:06.762692",
     "exception": false,
     "start_time": "2020-10-19T14:05:06.703776",
     "status": "completed"
    },
    "tags": []
   },
   "outputs": [
    {
     "data": {
      "text/html": [
       "<div>\n",
       "<style scoped>\n",
       "    .dataframe tbody tr th:only-of-type {\n",
       "        vertical-align: middle;\n",
       "    }\n",
       "\n",
       "    .dataframe tbody tr th {\n",
       "        vertical-align: top;\n",
       "    }\n",
       "\n",
       "    .dataframe thead th {\n",
       "        text-align: right;\n",
       "    }\n",
       "</style>\n",
       "<table border=\"1\" class=\"dataframe\">\n",
       "  <thead>\n",
       "    <tr style=\"text-align: right;\">\n",
       "      <th></th>\n",
       "      <th>Id</th>\n",
       "      <th>Price</th>\n",
       "    </tr>\n",
       "  </thead>\n",
       "  <tbody>\n",
       "    <tr>\n",
       "      <th>0</th>\n",
       "      <td>4567</td>\n",
       "      <td>164841.639374</td>\n",
       "    </tr>\n",
       "    <tr>\n",
       "      <th>1</th>\n",
       "      <td>5925</td>\n",
       "      <td>124387.486590</td>\n",
       "    </tr>\n",
       "    <tr>\n",
       "      <th>2</th>\n",
       "      <td>960</td>\n",
       "      <td>136110.607966</td>\n",
       "    </tr>\n",
       "    <tr>\n",
       "      <th>3</th>\n",
       "      <td>3848</td>\n",
       "      <td>136758.659272</td>\n",
       "    </tr>\n",
       "    <tr>\n",
       "      <th>4</th>\n",
       "      <td>746</td>\n",
       "      <td>184581.499815</td>\n",
       "    </tr>\n",
       "  </tbody>\n",
       "</table>\n",
       "</div>"
      ],
      "text/plain": [
       "     Id          Price\n",
       "0  4567  164841.639374\n",
       "1  5925  124387.486590\n",
       "2   960  136110.607966\n",
       "3  3848  136758.659272\n",
       "4   746  184581.499815"
      ]
     },
     "execution_count": 26,
     "metadata": {},
     "output_type": "execute_result"
    }
   ],
   "source": [
    "submit['Price'] = predictions\n",
    "submit.head()"
   ]
  },
  {
   "cell_type": "code",
   "execution_count": 27,
   "metadata": {
    "execution": {
     "iopub.execute_input": "2020-10-19T14:05:06.856893Z",
     "iopub.status.busy": "2020-10-19T14:05:06.855768Z",
     "iopub.status.idle": "2020-10-19T14:05:07.167013Z",
     "shell.execute_reply": "2020-10-19T14:05:07.166135Z"
    },
    "papermill": {
     "duration": 0.360252,
     "end_time": "2020-10-19T14:05:07.167169",
     "exception": false,
     "start_time": "2020-10-19T14:05:06.806917",
     "status": "completed"
    },
    "tags": []
   },
   "outputs": [],
   "source": [
    "submit.to_csv('rf_submit.csv', index=False)"
   ]
  }
 ],
 "metadata": {
  "kernelspec": {
   "display_name": "Python 3",
   "language": "python",
   "name": "python3"
  },
  "language_info": {
   "codemirror_mode": {
    "name": "ipython",
    "version": 3
   },
   "file_extension": ".py",
   "mimetype": "text/x-python",
   "name": "python",
   "nbconvert_exporter": "python",
   "pygments_lexer": "ipython3",
   "version": "3.7.6"
  },
  "papermill": {
   "duration": 51.25451,
   "end_time": "2020-10-19T14:05:07.319786",
   "environment_variables": {},
   "exception": null,
   "input_path": "__notebook__.ipynb",
   "output_path": "__notebook__.ipynb",
   "parameters": {},
   "start_time": "2020-10-19T14:04:16.065276",
   "version": "2.1.0"
  }
 },
 "nbformat": 4,
 "nbformat_minor": 4
}
